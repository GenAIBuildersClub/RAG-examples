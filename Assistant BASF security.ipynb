{
 "cells": [
  {
   "cell_type": "code",
   "execution_count": 1,
   "metadata": {},
   "outputs": [],
   "source": [
    "import pandas as pd\n",
    "import os\n",
    "from openai import OpenAI\n",
    "import json\n",
    "import time"
   ]
  },
  {
   "cell_type": "code",
   "execution_count": 2,
   "metadata": {},
   "outputs": [],
   "source": [
    "# read the first line of the text file Open AI coding.txt with encoding utf-8\n",
    "\n",
    "with open(r'C:\\Users\\dries.faems\\Biografie\\Open AI coding.txt', 'r', encoding = 'utf-8') as file:\n",
    "    api_key = str(file.readline())[1:-1]\n",
    "\n",
    "os.environ[\"OPENAI_API_KEY\"] = api_key\n"
   ]
  },
  {
   "cell_type": "code",
   "execution_count": 14,
   "metadata": {},
   "outputs": [],
   "source": [
    "# we need to create a client to interact with the OpenAI API\n",
    "\n",
    "client = OpenAI(api_key=api_key)\n",
    "assistant_id = \"asst_t5f1BWNNmAtnPkQEL9EM7Q5K\"\n",
    "thread = client.beta.threads.create()"
   ]
  },
  {
   "cell_type": "code",
   "execution_count": 15,
   "metadata": {},
   "outputs": [],
   "source": [
    "Query = \"Which number should I call in case of an emergency?\""
   ]
  },
  {
   "cell_type": "code",
   "execution_count": 16,
   "metadata": {},
   "outputs": [],
   "source": [
    "message = client.beta.threads.messages.create(\n",
    "    thread_id=thread.id,\n",
    "    role=\"user\",\n",
    "    content= Query,\n",
    "    )\n",
    "run = client.beta.threads.runs.create(\n",
    "    thread_id=thread.id,\n",
    "    assistant_id=assistant_id,\n",
    "    )\n",
    "run = client.beta.threads.runs.retrieve(\n",
    "    thread_id=thread.id,\n",
    "    run_id=run.id\n",
    "    )\n",
    "    # wait until run is completed\n",
    "while run.status != 'completed':\n",
    "        #wait 3 seconds\n",
    "        time.sleep(3)\n",
    "        run = client.beta.threads.runs.retrieve(\n",
    "            thread_id=thread.id,\n",
    "            run_id=run.id\n",
    "        )\n",
    "        messages = client.beta.threads.messages.list(\n",
    "        thread_id=thread.id\n",
    "        )\n"
   ]
  },
  {
   "cell_type": "code",
   "execution_count": 17,
   "metadata": {},
   "outputs": [
    {
     "name": "stdout",
     "output_type": "stream",
     "text": [
      "SyncCursorPage[Message](data=[Message(id='msg_GmDvxuxM2GnHMBvKTFZz5jSx', assistant_id='asst_t5f1BWNNmAtnPkQEL9EM7Q5K', attachments=[], completed_at=None, content=[TextContentBlock(text=Text(annotations=[FileCitationAnnotation(end_index=321, file_citation=FileCitation(file_id='file-lfFGWzC9vLy5Hyahqc6N7l4P', quote=None), start_index=309, text='【4:0†source】', type='file_citation')], value=\"In case of an emergency at the BASF site in Ludwigshafen, you should directly trigger an emergency call. You can do this by dialing **112** from in-house telephones or **062160112** from a mobile phone. It's essential to stay calm and respond to the operator's questions while waiting for further instructions【4:0†source】.\"), type='text')], created_at=1728411274, incomplete_at=None, incomplete_details=None, metadata={}, object='thread.message', role='assistant', run_id='run_dd1qcOtlw9J6Za7hAk1mdhQT', status=None, thread_id='thread_inT77HBej10UIjeXAmhUGDck'), Message(id='msg_qLfEaDtQa7Xckc1NLjkdfS6i', assistant_id=None, attachments=[], completed_at=None, content=[TextContentBlock(text=Text(annotations=[], value='Which number should I call in case of an emergency?'), type='text')], created_at=1728411270, incomplete_at=None, incomplete_details=None, metadata={}, object='thread.message', role='user', run_id=None, status=None, thread_id='thread_inT77HBej10UIjeXAmhUGDck')], object='list', first_id='msg_GmDvxuxM2GnHMBvKTFZz5jSx', last_id='msg_qLfEaDtQa7Xckc1NLjkdfS6i', has_more=False)\n"
     ]
    }
   ],
   "source": [
    "print(messages)"
   ]
  },
  {
   "cell_type": "code",
   "execution_count": 18,
   "metadata": {},
   "outputs": [],
   "source": [
    "# select response from string\n",
    "output = messages.data[0].content[0].text.value\n"
   ]
  },
  {
   "cell_type": "code",
   "execution_count": 19,
   "metadata": {},
   "outputs": [
    {
     "data": {
      "text/plain": [
       "\"In case of an emergency at the BASF site in Ludwigshafen, you should directly trigger an emergency call. You can do this by dialing **112** from in-house telephones or **062160112** from a mobile phone. It's essential to stay calm and respond to the operator's questions while waiting for further instructions【4:0†source】.\""
      ]
     },
     "execution_count": 19,
     "metadata": {},
     "output_type": "execute_result"
    }
   ],
   "source": [
    "output"
   ]
  }
 ],
 "metadata": {
  "kernelspec": {
   "display_name": "Python 3",
   "language": "python",
   "name": "python3"
  },
  "language_info": {
   "codemirror_mode": {
    "name": "ipython",
    "version": 3
   },
   "file_extension": ".py",
   "mimetype": "text/x-python",
   "name": "python",
   "nbconvert_exporter": "python",
   "pygments_lexer": "ipython3",
   "version": "3.11.4"
  },
  "orig_nbformat": 4
 },
 "nbformat": 4,
 "nbformat_minor": 2
}

{
 "cells": [
  {
   "cell_type": "code",
   "execution_count": 1,
   "metadata": {},
   "outputs": [],
   "source": [
    "# read the first line of the text file Open AI coding.txt with encoding utf-8\n",
    "\n",
    "with open(r'C:\\Users\\dries.faems\\Biografie\\Open AI coding.txt', 'r', encoding = 'utf-8') as file:\n",
    "    api_key = str(file.readline())[1:-1]\n"
   ]
  },
  {
   "cell_type": "code",
   "execution_count": 3,
   "metadata": {},
   "outputs": [],
   "source": [
    "#source: https://learn.deeplearning.ai/courses/langchain-chat-with-your-data/lesson/2/document-loading\n",
    "\n",
    "# we need to load our pdf document\n",
    "\n",
    "from langchain.document_loaders import PyPDFLoader\n",
    "loader = PyPDFLoader(\"Session 1-5.pdf\")\n",
    "pages = loader.load()"
   ]
  },
  {
   "cell_type": "code",
   "execution_count": 4,
   "metadata": {},
   "outputs": [
    {
     "data": {
      "text/plain": [
       "2"
      ]
     },
     "execution_count": 4,
     "metadata": {},
     "output_type": "execute_result"
    }
   ],
   "source": [
    "len(pages)"
   ]
  },
  {
   "cell_type": "code",
   "execution_count": 5,
   "metadata": {},
   "outputs": [],
   "source": [
    "page = pages[0]"
   ]
  },
  {
   "cell_type": "code",
   "execution_count": 6,
   "metadata": {},
   "outputs": [
    {
     "name": "stdout",
     "output_type": "stream",
     "text": [
      "file:///C/ ...20-%20WHU/Dokumente/Onderwijs/Digital%20technology%20strategy/Online%20MBA%202023/Video/Session%201-5.txt [3/27/2024 5:56:26 PM] Dear MBA participants in this video we will focus on the topic of how you can actually respond to digital  \n",
      "description as a company And actually there are three different response strategies that companies can apply The  \n",
      "first one is to team up which means that you engage in collaboration or even acquire a disruptor a Second strategy  \n",
      "can be to fight back So that you really decide okay, we are disrupted by another company now. Let's fight back and  \n",
      "create our own disrupted business model and Finally, and this is quite a special strategy you can also go for the  \n",
      "escape option and I will later on explain what that exactly means So let's first focus on the team up strategy So this is  \n",
      "a strategy where you decide as a company to actually collaborate with a potential Disruptor of your business model  \n",
      "and here is just one example. So Zalando is one of these companies that has disrupted The retail industry and today  \n",
      "for instance Adidas a traditional retail company has decided to engage in a strategic arrangement with Zalando  \n",
      "Where actually Adidas is using the logistical chain of Zalando to manage their online sales So instead of trying to  \n",
      "fight Zalando or compete with Zalando They actually teamed up with Zalando to deal with the disruption in terms of  \n",
      "e-commerce Another option might be to acquire the disruptor so you cannot only collaborate with them You can  \n",
      "also acquire them and this is for instance about the Dutch media company telegraphed it a 10 years ago When they  \n",
      "saw the disruption of social platforms by emerging and at that point in time in the Netherlands for instance the most  \n",
      "prominent social platform was hives and What the telegraph decided to do was to actually acquire hives to deal with  \n",
      "the disruption of social media platforms So you can also acquire companies to deal with disruption Now we know  \n",
      "from research that this acquisition option often is a tricky one because what we typically see is that Established  \n",
      "companies might acquire the wrong firm or at least at the wrong time This is exactly what happened with the  \n",
      "telegraph so they acquired hives and actually they acquired it just before Facebook became really the dominant  \n",
      "platform also in the Netherlands So in the end actually telegraph did not benefit from acquiring hives so in the end  \n",
      "they had to write down huge acquisition costs with limited added value Of course there are examples of companies  \n",
      "that have managed to successfully use acquisition to deal with the disruption I think about how Facebook has  \n",
      "acquired WhatsApp a potential disruptor of Facebook But we know from research that on average actually this  \n",
      "acquisition strategy is quite challenging Another strategy that you can apply is what we call the fight back strategy  \n",
      "So here you do not decide to collaborate or acquire a disruptor you decide to create your own Disruptive business  \n",
      "model and a nice example is the weather channel The weather channel was a channel in the US a traditional  \n",
      "television channel where on a 24 hour basis You could watch the weather predictions on your television Now in the  \n",
      "2000s this business model of having a weather channel Was disrupted because more and more Advertisement went  \n",
      "online and of course this weather channel was monetized by advertisements And so what did they decide to do this  \n",
      "are okay? Let's create our own digital platform and they created a website where people could on a daily basis Just  \n",
      "check the weather because of course they had all the data So they had a huge data infrastructure to predict the  \n",
      "weather to give information about the weather in specific locations And they said okay, let's leverage these data.  \n",
      "Let's create our own websites where people individuals can check the weather And finally they actually transformed  \n",
      "the website into a platform Where they can collaborate with companies that are in need of a data related to the  \n",
      "weather or where weather data Can actually be kind of predictor for these companies for instance the weather  \n",
      "channel today works together with companies like L'Oreal You might know L'Oreal as the company that produces a  \n",
      "lot of shampoos Now what did the weather company find out that actually Depending on the weather people buy  \n",
      "different kinds of shampoos So they were able to help L'Oreal with predicting what kind of shampoo would sell in  \n",
      "which kind of regions based on weather data Or today for instance, they are working together with Mercedes So if  \n",
      "you buy a Mercedes car actually in the sensors of the wipers of your Mercedes cars There will be sensors that  \n",
      "continuously give data to the weather company And of course this can be quite important because when do you put  \n",
      "your wipers on when it starts raining? So in that way the weather company gets real-life data from a Mercedes cars  \n",
      "driving around all over the world and in exchange You as a Mercedes user will get updated weather information  \n",
      "from the weather company So here is see a company that has decided to fight back to destruction They realized they  \n",
      "were disrupted by digital business models They created their own digital infrastructure and today they are actually  \n",
      "using that infrastructure To monetize it in alternative ways collaborating with a lot of companies A final strategy that  \n",
      "you can use is that you escape the digital description So here you don't try to collaborate with the strippers You don't  \n",
      "try to create your own description you simply come to the conclusion Okay, we are facing digital description and we  \n",
      "don't want to play this game We go in a totally different direction And a nice example is this bookshop in the city of  \n",
      "Oswala in the Netherlands And so this is a bookshop that decided okay We are disrupted by e-commerce you have  \n",
      "now you can now order your books on Amazon And we will not try to fight it because we will anyway lose that  \n",
      "game So we will not invest a lot of money in creating our own bookstore online that will not work out Instead what  \n",
      "they decided to do was say okay, we will actually will buy a church and in the Netherlands a lot of churches are  \n",
      "Empty nowadays because there are not that many people going to church anymore So they said okay, let's buy an  \n",
      "empty church and we will integrate our bookstore into the church So that our bookstore actually becomes a kind of  \n",
      "touristic attraction for people and so today this bookstore is actually very successful Not because they sell a lot of  \n",
      "books, but actually there are a lot of tourists visiting the church as a bookstore and then of course They drink  \n"
     ]
    }
   ],
   "source": [
    "start = page.page_content\n",
    "print(start)"
   ]
  },
  {
   "cell_type": "code",
   "execution_count": 7,
   "metadata": {},
   "outputs": [
    {
     "data": {
      "text/plain": [
       "['file:///C/ ...20-%20WHU/Dokumente/Onderwijs/Digital%20technology%20strategy/Online%20MBA%202023/Video/Session%201-5.txt [3/27/2024 5:56:26 PM] Dear MBA participants in this video we will focus on the topic of how you can actually respond to digital',\n",
       " 'description as a company And actually there are three different response strategies that companies can apply The  \\nfirst one is to team up which means that you engage in collaboration or even acquire a disruptor a Second strategy',\n",
       " \"can be to fight back So that you really decide okay, we are disrupted by another company now. Let's fight back and  \\ncreate our own disrupted business model and Finally, and this is quite a special strategy you can also go for the\",\n",
       " \"escape option and I will later on explain what that exactly means So let's first focus on the team up strategy So this is  \\na strategy where you decide as a company to actually collaborate with a potential Disruptor of your business model\",\n",
       " 'and here is just one example. So Zalando is one of these companies that has disrupted The retail industry and today  \\nfor instance Adidas a traditional retail company has decided to engage in a strategic arrangement with Zalando',\n",
       " 'Where actually Adidas is using the logistical chain of Zalando to manage their online sales So instead of trying to  \\nfight Zalando or compete with Zalando They actually teamed up with Zalando to deal with the disruption in terms of',\n",
       " 'e-commerce Another option might be to acquire the disruptor so you cannot only collaborate with them You can  \\nalso acquire them and this is for instance about the Dutch media company telegraphed it a 10 years ago When they',\n",
       " 'saw the disruption of social platforms by emerging and at that point in time in the Netherlands for instance the most  \\nprominent social platform was hives and What the telegraph decided to do was to actually acquire hives to deal with',\n",
       " 'the disruption of social media platforms So you can also acquire companies to deal with disruption Now we know  \\nfrom research that this acquisition option often is a tricky one because what we typically see is that Established',\n",
       " 'companies might acquire the wrong firm or at least at the wrong time This is exactly what happened with the  \\ntelegraph so they acquired hives and actually they acquired it just before Facebook became really the dominant',\n",
       " 'platform also in the Netherlands So in the end actually telegraph did not benefit from acquiring hives so in the end  \\nthey had to write down huge acquisition costs with limited added value Of course there are examples of companies',\n",
       " 'that have managed to successfully use acquisition to deal with the disruption I think about how Facebook has  \\nacquired WhatsApp a potential disruptor of Facebook But we know from research that on average actually this',\n",
       " 'acquisition strategy is quite challenging Another strategy that you can apply is what we call the fight back strategy  \\nSo here you do not decide to collaborate or acquire a disruptor you decide to create your own Disruptive business',\n",
       " 'model and a nice example is the weather channel The weather channel was a channel in the US a traditional  \\ntelevision channel where on a 24 hour basis You could watch the weather predictions on your television Now in the',\n",
       " '2000s this business model of having a weather channel Was disrupted because more and more Advertisement went  \\nonline and of course this weather channel was monetized by advertisements And so what did they decide to do this',\n",
       " \"are okay? Let's create our own digital platform and they created a website where people could on a daily basis Just  \\ncheck the weather because of course they had all the data So they had a huge data infrastructure to predict the\",\n",
       " \"weather to give information about the weather in specific locations And they said okay, let's leverage these data.  \\nLet's create our own websites where people individuals can check the weather And finally they actually transformed\",\n",
       " 'the website into a platform Where they can collaborate with companies that are in need of a data related to the  \\nweather or where weather data Can actually be kind of predictor for these companies for instance the weather',\n",
       " \"channel today works together with companies like L'Oreal You might know L'Oreal as the company that produces a  \\nlot of shampoos Now what did the weather company find out that actually Depending on the weather people buy\",\n",
       " \"different kinds of shampoos So they were able to help L'Oreal with predicting what kind of shampoo would sell in  \\nwhich kind of regions based on weather data Or today for instance, they are working together with Mercedes So if\",\n",
       " 'you buy a Mercedes car actually in the sensors of the wipers of your Mercedes cars There will be sensors that  \\ncontinuously give data to the weather company And of course this can be quite important because when do you put',\n",
       " 'your wipers on when it starts raining? So in that way the weather company gets real-life data from a Mercedes cars  \\ndriving around all over the world and in exchange You as a Mercedes user will get updated weather information',\n",
       " 'from the weather company So here is see a company that has decided to fight back to destruction They realized they  \\nwere disrupted by digital business models They created their own digital infrastructure and today they are actually',\n",
       " \"using that infrastructure To monetize it in alternative ways collaborating with a lot of companies A final strategy that  \\nyou can use is that you escape the digital description So here you don't try to collaborate with the strippers You don't\",\n",
       " \"try to create your own description you simply come to the conclusion Okay, we are facing digital description and we  \\ndon't want to play this game We go in a totally different direction And a nice example is this bookshop in the city of\",\n",
       " 'Oswala in the Netherlands And so this is a bookshop that decided okay We are disrupted by e-commerce you have  \\nnow you can now order your books on Amazon And we will not try to fight it because we will anyway lose that',\n",
       " 'game So we will not invest a lot of money in creating our own bookstore online that will not work out Instead what  \\nthey decided to do was say okay, we will actually will buy a church and in the Netherlands a lot of churches are',\n",
       " \"Empty nowadays because there are not that many people going to church anymore So they said okay, let's buy an  \\nempty church and we will integrate our bookstore into the church So that our bookstore actually becomes a kind of\",\n",
       " 'touristic attraction for people and so today this bookstore is actually very successful Not because they sell a lot of  \\nbooks, but actually there are a lot of tourists visiting the church as a bookstore and then of course They drink']"
      ]
     },
     "execution_count": 7,
     "metadata": {},
     "output_type": "execute_result"
    }
   ],
   "source": [
    "# now we need to chunk the text\n",
    "\n",
    "#source: https://learn.deeplearning.ai/courses/langchain-chat-with-your-data/lesson/3/document-splitting\n",
    "\n",
    "from langchain.text_splitter import RecursiveCharacterTextSplitter\n",
    "\n",
    "r_splitter = RecursiveCharacterTextSplitter(\n",
    "    chunk_size=300,\n",
    "    chunk_overlap=0\n",
    ")\n",
    "\n",
    "splitted = r_splitter.split_text(start)\n",
    "\n",
    "splitted"
   ]
  },
  {
   "cell_type": "code",
   "execution_count": 8,
   "metadata": {},
   "outputs": [
    {
     "data": {
      "text/plain": [
       "6"
      ]
     },
     "execution_count": 8,
     "metadata": {},
     "output_type": "execute_result"
    }
   ],
   "source": [
    "# Load PDF into docs\n",
    "loaders = [\n",
    "    PyPDFLoader(\"Session 1-5.pdf\"),\n",
    "]\n",
    "docs = []\n",
    "for loader in loaders:\n",
    "    docs.extend(loader.load())\n",
    "\n",
    "# Split docs into chunks\n",
    "    \n",
    "text_splitter = RecursiveCharacterTextSplitter(\n",
    "    chunk_size = 1500,\n",
    "    chunk_overlap = 150\n",
    ")\n",
    "\n",
    "splits = text_splitter.split_documents(docs)\n",
    "\n",
    "len(splits)"
   ]
  },
  {
   "cell_type": "code",
   "execution_count": 9,
   "metadata": {},
   "outputs": [],
   "source": [
    "# create embeddings for all the chunks\n",
    "\n",
    "from langchain_openai import OpenAIEmbeddings\n",
    "embedding = OpenAIEmbeddings(api_key = api_key)"
   ]
  },
  {
   "cell_type": "code",
   "execution_count": 10,
   "metadata": {},
   "outputs": [],
   "source": [
    "# store embeddings in vectordatabase\n",
    "\n",
    "from langchain.vectorstores import FAISS\n",
    "\n",
    "vectorstore = FAISS.from_documents(splits, embedding)\n",
    "\n",
    "\n",
    "\n"
   ]
  },
  {
   "cell_type": "code",
   "execution_count": null,
   "metadata": {},
   "outputs": [],
   "source": [
    "# this is the code to save you vectorstore to disk\n",
    "\n",
    "vectorstore.save_local(\"faiss_index\")"
   ]
  },
  {
   "cell_type": "code",
   "execution_count": 13,
   "metadata": {},
   "outputs": [],
   "source": [
    "# setting up the retrieval function\n",
    "\n",
    "from langchain_openai import ChatOpenAI\n",
    "from langchain.chains import ConversationalRetrievalChain\n",
    "\n",
    "\n",
    "#queries using ConversationalRetrieval Chain\n",
    "\n",
    "chain = ConversationalRetrievalChain.from_llm(llm = ChatOpenAI(temperature=0.0,model_name='gpt-4o-mini', api_key=api_key), chain_type = \"stuff\", retriever=vectorstore.as_retriever(), verbose = True)\n",
    "\n",
    "\n",
    " \n",
    "\n"
   ]
  },
  {
   "cell_type": "code",
   "execution_count": 14,
   "metadata": {},
   "outputs": [
    {
     "name": "stdout",
     "output_type": "stream",
     "text": [
      "\n",
      "\n",
      "\u001b[1m> Entering new StuffDocumentsChain chain...\u001b[0m\n",
      "\n",
      "\n",
      "\u001b[1m> Entering new LLMChain chain...\u001b[0m\n",
      "Prompt after formatting:\n",
      "\u001b[32;1m\u001b[1;3mSystem: Use the following pieces of context to answer the user's question. \n",
      "If you don't know the answer, just say that you don't know, don't try to make up an answer.\n",
      "----------------\n",
      "file:///C/ ...20-%20WHU/Dokumente/Onderwijs/Digital%20technology%20strategy/Online%20MBA%202023/Video/Session%201-5.txt [3/27/2024 5:56:26 PM] Dear MBA participants in this video we will focus on the topic of how you can actually respond to digital  \n",
      "description as a company And actually there are three different response strategies that companies can apply The  \n",
      "first one is to team up which means that you engage in collaboration or even acquire a disruptor a Second strategy  \n",
      "can be to fight back So that you really decide okay, we are disrupted by another company now. Let's fight back and  \n",
      "create our own disrupted business model and Finally, and this is quite a special strategy you can also go for the  \n",
      "escape option and I will later on explain what that exactly means So let's first focus on the team up strategy So this is  \n",
      "a strategy where you decide as a company to actually collaborate with a potential Disruptor of your business model  \n",
      "and here is just one example. So Zalando is one of these companies that has disrupted The retail industry and today  \n",
      "for instance Adidas a traditional retail company has decided to engage in a strategic arrangement with Zalando  \n",
      "Where actually Adidas is using the logistical chain of Zalando to manage their online sales So instead of trying to  \n",
      "fight Zalando or compete with Zalando They actually teamed up with Zalando to deal with the disruption in terms of\n",
      "\n",
      "file:///C/ ...20-%20WHU/Dokumente/Onderwijs/Digital%20technology%20strategy/Online%20MBA%202023/Video/Session%201-5.txt [3/27/2024 5:56:26 PM]expensive coffee and have a nice meal and that's how this bookstore nowadays makes money So I think this is a nice  \n",
      "example of how you can decide to fully Escape the digital description and move into a business model where you do  \n",
      "not have to directly compete with your digital descriptors So in sum to end this session on digital description let me  \n",
      "summarize kind of the key insights So if you want to understand digital description you first Avall have to have a  \n",
      "very good understanding of your own business model And so you have to analyze your existing business model  \n",
      "before you can understand who is disrupting your business model It's also very important to realize that typically  \n",
      "digital descriptors will not be your existing competitors so they might come from very different directions Existing  \n",
      "business models can be disrupted in different ways There are different strategies like the long tail strategy platform  \n",
      "strategy a data driven strategy and Fighting back is not the only option you can also decide to collaborate with the  \n",
      "strippers or even to escape the description So I hope these videos helped you to get better understanding About the  \n",
      "topic of digital description and how it has an impact on business models of companies And I'm looking forward to  \n",
      "our live session where we can continue the discussion You\n",
      "\n",
      "acquired WhatsApp a potential disruptor of Facebook But we know from research that on average actually this  \n",
      "acquisition strategy is quite challenging Another strategy that you can apply is what we call the fight back strategy  \n",
      "So here you do not decide to collaborate or acquire a disruptor you decide to create your own Disruptive business  \n",
      "model and a nice example is the weather channel The weather channel was a channel in the US a traditional  \n",
      "television channel where on a 24 hour basis You could watch the weather predictions on your television Now in the  \n",
      "2000s this business model of having a weather channel Was disrupted because more and more Advertisement went  \n",
      "online and of course this weather channel was monetized by advertisements And so what did they decide to do this  \n",
      "are okay? Let's create our own digital platform and they created a website where people could on a daily basis Just  \n",
      "check the weather because of course they had all the data So they had a huge data infrastructure to predict the  \n",
      "weather to give information about the weather in specific locations And they said okay, let's leverage these data.  \n",
      "Let's create our own websites where people individuals can check the weather And finally they actually transformed  \n",
      "the website into a platform Where they can collaborate with companies that are in need of a data related to the  \n",
      "weather or where weather data Can actually be kind of predictor for these companies for instance the weather\n",
      "\n",
      "you can use is that you escape the digital description So here you don't try to collaborate with the strippers You don't  \n",
      "try to create your own description you simply come to the conclusion Okay, we are facing digital description and we  \n",
      "don't want to play this game We go in a totally different direction And a nice example is this bookshop in the city of  \n",
      "Oswala in the Netherlands And so this is a bookshop that decided okay We are disrupted by e-commerce you have  \n",
      "now you can now order your books on Amazon And we will not try to fight it because we will anyway lose that  \n",
      "game So we will not invest a lot of money in creating our own bookstore online that will not work out Instead what  \n",
      "they decided to do was say okay, we will actually will buy a church and in the Netherlands a lot of churches are  \n",
      "Empty nowadays because there are not that many people going to church anymore So they said okay, let's buy an  \n",
      "empty church and we will integrate our bookstore into the church So that our bookstore actually becomes a kind of  \n",
      "touristic attraction for people and so today this bookstore is actually very successful Not because they sell a lot of  \n",
      "books, but actually there are a lot of tourists visiting the church as a bookstore and then of course They drink\n",
      "Human: What are strategies to deal wiht digital disruption?\u001b[0m\n",
      "\n",
      "\u001b[1m> Finished chain.\u001b[0m\n",
      "\n",
      "\u001b[1m> Finished chain.\u001b[0m\n"
     ]
    },
    {
     "data": {
      "text/plain": [
       "'There are three main strategies to deal with digital disruption:\\n\\n1. **Team Up**: This strategy involves collaborating with or acquiring a disruptor. For example, a traditional company might partner with a digital disruptor to leverage their capabilities and manage the disruption effectively.\\n\\n2. **Fight Back**: In this approach, a company creates its own disruptive business model in response to the disruption. This could involve developing new digital platforms or services that compete directly with the disruptor.\\n\\n3. **Escape**: This strategy entails moving away from the competitive landscape affected by digital disruption. A company may choose to pivot to a completely different business model that does not directly compete with digital disruptors, such as transforming their physical space into a unique experience that attracts customers for reasons other than the original product. \\n\\nThese strategies allow companies to navigate the challenges posed by digital disruption in various ways.'"
      ]
     },
     "execution_count": 14,
     "metadata": {},
     "output_type": "execute_result"
    }
   ],
   "source": [
    "# execute the chain\n",
    "\n",
    "query = \"What are strategies to deal wiht digital disruption?\"\n",
    "\n",
    "result = chain.invoke({\"question\": query, \"chat_history\": []})\n",
    "\n",
    "result['answer']"
   ]
  },
  {
   "cell_type": "code",
   "execution_count": 15,
   "metadata": {},
   "outputs": [
    {
     "name": "stdout",
     "output_type": "stream",
     "text": [
      "{'question': 'What are strategies to deal wiht digital disruption?', 'chat_history': [], 'answer': 'There are three main strategies to deal with digital disruption:\\n\\n1. **Team Up**: This strategy involves collaborating with or acquiring a disruptor. For example, a traditional company might partner with a digital disruptor to leverage their capabilities and manage the disruption effectively.\\n\\n2. **Fight Back**: In this approach, a company creates its own disruptive business model in response to the disruption. This could involve developing new digital platforms or services that compete directly with the disruptor.\\n\\n3. **Escape**: This strategy entails moving away from the competitive landscape affected by digital disruption. A company may choose to pivot to a completely different business model that does not directly compete with digital disruptors, such as transforming their physical space into a unique experience that attracts customers for reasons other than the original product. \\n\\nThese strategies allow companies to navigate the challenges posed by digital disruption in various ways.'}\n"
     ]
    }
   ],
   "source": [
    "print(result)"
   ]
  },
  {
   "cell_type": "code",
   "execution_count": 16,
   "metadata": {},
   "outputs": [
    {
     "data": {
      "text/plain": [
       "'There are three main strategies to deal with digital disruption:\\n\\n1. **Team Up**: This strategy involves collaborating with or acquiring a disruptor. For example, a traditional company might partner with a digital disruptor to leverage their capabilities and manage the disruption effectively.\\n\\n2. **Fight Back**: In this approach, a company creates its own disruptive business model in response to the disruption. This could involve developing new digital platforms or services that compete directly with the disruptor.\\n\\n3. **Escape**: This strategy entails moving away from the competitive landscape affected by digital disruption. A company may choose to pivot to a completely different business model that does not directly compete with digital disruptors, such as transforming their physical space into a unique experience that attracts customers for reasons other than the original product. \\n\\nThese strategies allow companies to navigate the challenges posed by digital disruption in various ways.'"
      ]
     },
     "execution_count": 16,
     "metadata": {},
     "output_type": "execute_result"
    }
   ],
   "source": [
    "result['answer']"
   ]
  }
 ],
 "metadata": {
  "kernelspec": {
   "display_name": "Python 3",
   "language": "python",
   "name": "python3"
  },
  "language_info": {
   "codemirror_mode": {
    "name": "ipython",
    "version": 3
   },
   "file_extension": ".py",
   "mimetype": "text/x-python",
   "name": "python",
   "nbconvert_exporter": "python",
   "pygments_lexer": "ipython3",
   "version": "3.11.4"
  }
 },
 "nbformat": 4,
 "nbformat_minor": 2
}
